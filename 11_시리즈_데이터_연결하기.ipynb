{
  "nbformat": 4,
  "nbformat_minor": 0,
  "metadata": {
    "colab": {
      "provenance": [],
      "authorship_tag": "ABX9TyPT8pB7uL7PJEkbqXtu1TUY",
      "include_colab_link": true
    },
    "kernelspec": {
      "name": "python3",
      "display_name": "Python 3"
    },
    "language_info": {
      "name": "python"
    }
  },
  "cells": [
    {
      "cell_type": "markdown",
      "metadata": {
        "id": "view-in-github",
        "colab_type": "text"
      },
      "source": [
        "<a href=\"https://colab.research.google.com/github/ChaelinL/Pandas_Study/blob/main/11_%EC%8B%9C%EB%A6%AC%EC%A6%88_%EB%8D%B0%EC%9D%B4%ED%84%B0_%EC%97%B0%EA%B2%B0%ED%95%98%EA%B8%B0.ipynb\" target=\"_parent\"><img src=\"https://colab.research.google.com/assets/colab-badge.svg\" alt=\"Open In Colab\"/></a>"
      ]
    },
    {
      "cell_type": "code",
      "execution_count": null,
      "metadata": {
        "id": "wAMKU2Zo-Imw",
        "outputId": "5a34e356-177b-438d-99b1-b7fdb5b36544",
        "colab": {
          "base_uri": "https://localhost:8080/"
        }
      },
      "outputs": [
        {
          "output_type": "stream",
          "name": "stdout",
          "text": [
            "0    a\n",
            "1    b\n",
            "dtype: object\n",
            "0    c\n",
            "1    d\n",
            "dtype: object\n"
          ]
        }
      ],
      "source": [
        "# 시리즈 데이터 만들기\n",
        "import pandas as pd\n",
        "\n",
        "s1 = pd.Series(['a', 'b'])\n",
        "s2 = pd.Series(['c', 'd'])\n",
        "\n",
        "print(s1)\n",
        "print(s2)"
      ]
    },
    {
      "cell_type": "markdown",
      "source": [
        "**시리즈 데이터 합치기**"
      ],
      "metadata": {
        "id": "9n-Hjsmz-PDv"
      }
    },
    {
      "cell_type": "code",
      "source": [
        "pd.concat([s1, s2])"
      ],
      "metadata": {
        "colab": {
          "base_uri": "https://localhost:8080/"
        },
        "id": "GtBQoeP6-Nr0",
        "outputId": "2c7eae52-ce15-40cf-ef8e-6adc7fcd225a"
      },
      "execution_count": null,
      "outputs": [
        {
          "output_type": "execute_result",
          "data": {
            "text/plain": [
              "0    a\n",
              "1    b\n",
              "0    c\n",
              "1    d\n",
              "dtype: object"
            ]
          },
          "metadata": {},
          "execution_count": 4
        }
      ]
    },
    {
      "cell_type": "markdown",
      "source": [
        "**데이터를 병합하여 새로운 인덱스 만들기**"
      ],
      "metadata": {
        "id": "FMm8_rPD-RpT"
      }
    },
    {
      "cell_type": "code",
      "source": [
        "pd.concat([s1, s2], ignore_index=True)"
      ],
      "metadata": {
        "colab": {
          "base_uri": "https://localhost:8080/"
        },
        "id": "L-ZV9l9s-UfV",
        "outputId": "0d7513da-2a09-455d-c770-48e310d2113a"
      },
      "execution_count": null,
      "outputs": [
        {
          "output_type": "execute_result",
          "data": {
            "text/plain": [
              "0    a\n",
              "1    b\n",
              "2    c\n",
              "3    d\n",
              "dtype: object"
            ]
          },
          "metadata": {},
          "execution_count": 5
        }
      ]
    },
    {
      "cell_type": "markdown",
      "source": [
        "**계층적 인덱스를 추가하고 열 이름 지정하기**"
      ],
      "metadata": {
        "id": "w_xRUXaa-W42"
      }
    },
    {
      "cell_type": "code",
      "source": [
        "pd.concat([s1, s2], keys=['s1', 's2'], names=['Series name', 'Row ID'])"
      ],
      "metadata": {
        "colab": {
          "base_uri": "https://localhost:8080/"
        },
        "id": "D5rDHkpX-ZkA",
        "outputId": "dde3bd6c-5459-41da-966e-700bfcf01f30"
      },
      "execution_count": null,
      "outputs": [
        {
          "output_type": "execute_result",
          "data": {
            "text/plain": [
              "Series name  Row ID\n",
              "s1           0         a\n",
              "             1         b\n",
              "s2           0         c\n",
              "             1         d\n",
              "dtype: object"
            ]
          },
          "metadata": {},
          "execution_count": 6
        }
      ]
    }
  ]
}