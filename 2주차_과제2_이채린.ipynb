{
  "nbformat": 4,
  "nbformat_minor": 0,
  "metadata": {
    "colab": {
      "provenance": [],
      "include_colab_link": true
    },
    "kernelspec": {
      "name": "python3",
      "display_name": "Python 3"
    },
    "language_info": {
      "name": "python"
    },
    "accelerator": "GPU",
    "gpuClass": "standard"
  },
  "cells": [
    {
      "cell_type": "markdown",
      "metadata": {
        "id": "view-in-github",
        "colab_type": "text"
      },
      "source": [
        "<a href=\"https://colab.research.google.com/github/ChaelinL/Pandas_Study/blob/main/2%EC%A3%BC%EC%B0%A8_%EA%B3%BC%EC%A0%9C2_%EC%9D%B4%EC%B1%84%EB%A6%B0.ipynb\" target=\"_parent\"><img src=\"https://colab.research.google.com/assets/colab-badge.svg\" alt=\"Open In Colab\"/></a>"
      ]
    },
    {
      "cell_type": "markdown",
      "source": [
        "## 판다스 라이브러리 불러오기\n",
        "\n",
        "import를 통해 판다스 라이브러리를 불러오자."
      ],
      "metadata": {
        "id": "yllpjtjLEmDV"
      }
    },
    {
      "cell_type": "code",
      "source": [
        "import pandas as pd"
      ],
      "metadata": {
        "id": "BHVuUdsSEvMg"
      },
      "execution_count": null,
      "outputs": []
    },
    {
      "cell_type": "markdown",
      "source": [
        "## **데이터 프레임 만들기**\n",
        "\n",
        "아래 사진과 같이 데이터 프레임을 만들어보고 출력해보자.\n",
        "\n",
        "\n",
        "![화면 캡처 2023-02-15 174455.jpg](data:image/jpeg;base64,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)"
      ],
      "metadata": {
        "id": "x6xhMaNyEzCp"
      }
    },
    {
      "cell_type": "code",
      "source": [
        "df = pd.DataFrame(\n",
        "    {'이름': ['용용', '용용', '줄줄', '철수', '영희'],\n",
        "     '나이': [32, 32, 28, 27, 28],\n",
        "     '국적': ['대한민국', '대한민국', '영국', '싱가포르', '브라질']},\n",
        "     index=[0,1,2,3,4]\n",
        ")\n",
        "df"
      ],
      "metadata": {
        "colab": {
          "base_uri": "https://localhost:8080/",
          "height": 206
        },
        "id": "RjpbfiTdGz4R",
        "outputId": "e869a6a0-2143-436a-93ce-6dea0623f670"
      },
      "execution_count": null,
      "outputs": [
        {
          "output_type": "execute_result",
          "data": {
            "text/plain": [
              "   이름  나이    국적\n",
              "0  용용  32  대한민국\n",
              "1  용용  32  대한민국\n",
              "2  줄줄  28    영국\n",
              "3  철수  27  싱가포르\n",
              "4  영희  28   브라질"
            ],
            "text/html": [
              "\n",
              "  <div id=\"df-e79caf05-75f0-4ac1-99bd-c92555f840dd\">\n",
              "    <div class=\"colab-df-container\">\n",
              "      <div>\n",
              "<style scoped>\n",
              "    .dataframe tbody tr th:only-of-type {\n",
              "        vertical-align: middle;\n",
              "    }\n",
              "\n",
              "    .dataframe tbody tr th {\n",
              "        vertical-align: top;\n",
              "    }\n",
              "\n",
              "    .dataframe thead th {\n",
              "        text-align: right;\n",
              "    }\n",
              "</style>\n",
              "<table border=\"1\" class=\"dataframe\">\n",
              "  <thead>\n",
              "    <tr style=\"text-align: right;\">\n",
              "      <th></th>\n",
              "      <th>이름</th>\n",
              "      <th>나이</th>\n",
              "      <th>국적</th>\n",
              "    </tr>\n",
              "  </thead>\n",
              "  <tbody>\n",
              "    <tr>\n",
              "      <th>0</th>\n",
              "      <td>용용</td>\n",
              "      <td>32</td>\n",
              "      <td>대한민국</td>\n",
              "    </tr>\n",
              "    <tr>\n",
              "      <th>1</th>\n",
              "      <td>용용</td>\n",
              "      <td>32</td>\n",
              "      <td>대한민국</td>\n",
              "    </tr>\n",
              "    <tr>\n",
              "      <th>2</th>\n",
              "      <td>줄줄</td>\n",
              "      <td>28</td>\n",
              "      <td>영국</td>\n",
              "    </tr>\n",
              "    <tr>\n",
              "      <th>3</th>\n",
              "      <td>철수</td>\n",
              "      <td>27</td>\n",
              "      <td>싱가포르</td>\n",
              "    </tr>\n",
              "    <tr>\n",
              "      <th>4</th>\n",
              "      <td>영희</td>\n",
              "      <td>28</td>\n",
              "      <td>브라질</td>\n",
              "    </tr>\n",
              "  </tbody>\n",
              "</table>\n",
              "</div>\n",
              "      <button class=\"colab-df-convert\" onclick=\"convertToInteractive('df-e79caf05-75f0-4ac1-99bd-c92555f840dd')\"\n",
              "              title=\"Convert this dataframe to an interactive table.\"\n",
              "              style=\"display:none;\">\n",
              "        \n",
              "  <svg xmlns=\"http://www.w3.org/2000/svg\" height=\"24px\"viewBox=\"0 0 24 24\"\n",
              "       width=\"24px\">\n",
              "    <path d=\"M0 0h24v24H0V0z\" fill=\"none\"/>\n",
              "    <path d=\"M18.56 5.44l.94 2.06.94-2.06 2.06-.94-2.06-.94-.94-2.06-.94 2.06-2.06.94zm-11 1L8.5 8.5l.94-2.06 2.06-.94-2.06-.94L8.5 2.5l-.94 2.06-2.06.94zm10 10l.94 2.06.94-2.06 2.06-.94-2.06-.94-.94-2.06-.94 2.06-2.06.94z\"/><path d=\"M17.41 7.96l-1.37-1.37c-.4-.4-.92-.59-1.43-.59-.52 0-1.04.2-1.43.59L10.3 9.45l-7.72 7.72c-.78.78-.78 2.05 0 2.83L4 21.41c.39.39.9.59 1.41.59.51 0 1.02-.2 1.41-.59l7.78-7.78 2.81-2.81c.8-.78.8-2.07 0-2.86zM5.41 20L4 18.59l7.72-7.72 1.47 1.35L5.41 20z\"/>\n",
              "  </svg>\n",
              "      </button>\n",
              "      \n",
              "  <style>\n",
              "    .colab-df-container {\n",
              "      display:flex;\n",
              "      flex-wrap:wrap;\n",
              "      gap: 12px;\n",
              "    }\n",
              "\n",
              "    .colab-df-convert {\n",
              "      background-color: #E8F0FE;\n",
              "      border: none;\n",
              "      border-radius: 50%;\n",
              "      cursor: pointer;\n",
              "      display: none;\n",
              "      fill: #1967D2;\n",
              "      height: 32px;\n",
              "      padding: 0 0 0 0;\n",
              "      width: 32px;\n",
              "    }\n",
              "\n",
              "    .colab-df-convert:hover {\n",
              "      background-color: #E2EBFA;\n",
              "      box-shadow: 0px 1px 2px rgba(60, 64, 67, 0.3), 0px 1px 3px 1px rgba(60, 64, 67, 0.15);\n",
              "      fill: #174EA6;\n",
              "    }\n",
              "\n",
              "    [theme=dark] .colab-df-convert {\n",
              "      background-color: #3B4455;\n",
              "      fill: #D2E3FC;\n",
              "    }\n",
              "\n",
              "    [theme=dark] .colab-df-convert:hover {\n",
              "      background-color: #434B5C;\n",
              "      box-shadow: 0px 1px 3px 1px rgba(0, 0, 0, 0.15);\n",
              "      filter: drop-shadow(0px 1px 2px rgba(0, 0, 0, 0.3));\n",
              "      fill: #FFFFFF;\n",
              "    }\n",
              "  </style>\n",
              "\n",
              "      <script>\n",
              "        const buttonEl =\n",
              "          document.querySelector('#df-e79caf05-75f0-4ac1-99bd-c92555f840dd button.colab-df-convert');\n",
              "        buttonEl.style.display =\n",
              "          google.colab.kernel.accessAllowed ? 'block' : 'none';\n",
              "\n",
              "        async function convertToInteractive(key) {\n",
              "          const element = document.querySelector('#df-e79caf05-75f0-4ac1-99bd-c92555f840dd');\n",
              "          const dataTable =\n",
              "            await google.colab.kernel.invokeFunction('convertToInteractive',\n",
              "                                                     [key], {});\n",
              "          if (!dataTable) return;\n",
              "\n",
              "          const docLinkHtml = 'Like what you see? Visit the ' +\n",
              "            '<a target=\"_blank\" href=https://colab.research.google.com/notebooks/data_table.ipynb>data table notebook</a>'\n",
              "            + ' to learn more about interactive tables.';\n",
              "          element.innerHTML = '';\n",
              "          dataTable['output_type'] = 'display_data';\n",
              "          await google.colab.output.renderOutput(dataTable, element);\n",
              "          const docLink = document.createElement('div');\n",
              "          docLink.innerHTML = docLinkHtml;\n",
              "          element.appendChild(docLink);\n",
              "        }\n",
              "      </script>\n",
              "    </div>\n",
              "  </div>\n",
              "  "
            ]
          },
          "metadata": {},
          "execution_count": 4
        }
      ]
    },
    {
      "cell_type": "markdown",
      "source": [
        "## **1. 특정 열에 어떤 값이 몇 개 들어 있는지 확인해보자.**\n",
        "\n",
        "'이름', '나이', '국적' 열에 각각 어떤 값이 몇 개 들어 있는지 확인하자."
      ],
      "metadata": {
        "id": "in1ueBugG03l"
      }
    },
    {
      "cell_type": "code",
      "source": [
        "print(df['이름'].value_counts())\n",
        "print(df['나이'].value_counts())\n",
        "print(df['국적'].value_counts())"
      ],
      "metadata": {
        "colab": {
          "base_uri": "https://localhost:8080/"
        },
        "id": "ZMN6wP1GNP-0",
        "outputId": "c2ea3ec9-2513-4a2b-9ebc-461ee2c42075"
      },
      "execution_count": null,
      "outputs": [
        {
          "output_type": "stream",
          "name": "stdout",
          "text": [
            "용용    2\n",
            "줄줄    1\n",
            "철수    1\n",
            "영희    1\n",
            "Name: 이름, dtype: int64\n",
            "32    2\n",
            "28    2\n",
            "27    1\n",
            "Name: 나이, dtype: int64\n",
            "대한민국    2\n",
            "영국      1\n",
            "싱가포르    1\n",
            "브라질     1\n",
            "Name: 국적, dtype: int64\n"
          ]
        }
      ]
    },
    {
      "cell_type": "markdown",
      "source": [
        "## **2. 데이터 프레임의 행이 몇 개인지 세어 보자.**"
      ],
      "metadata": {
        "id": "IWwVFzOGOkkh"
      }
    },
    {
      "cell_type": "code",
      "source": [
        "len(df)"
      ],
      "metadata": {
        "colab": {
          "base_uri": "https://localhost:8080/"
        },
        "id": "suJkVCodOp4q",
        "outputId": "82ae6c87-2dc8-4555-c78f-7a9182deddb3"
      },
      "execution_count": null,
      "outputs": [
        {
          "output_type": "execute_result",
          "data": {
            "text/plain": [
              "5"
            ]
          },
          "metadata": {},
          "execution_count": 10
        }
      ]
    },
    {
      "cell_type": "markdown",
      "source": [
        "## **3. 데이터 프레임의 행과 열이 몇 개인지 세어 보자.**"
      ],
      "metadata": {
        "id": "HqAD3CONOuWi"
      }
    },
    {
      "cell_type": "code",
      "source": [
        "df.shape"
      ],
      "metadata": {
        "colab": {
          "base_uri": "https://localhost:8080/"
        },
        "id": "OoroTDotO0S2",
        "outputId": "58cc54f4-07a0-40ea-8274-b99ddf3e7f37"
      },
      "execution_count": null,
      "outputs": [
        {
          "output_type": "execute_result",
          "data": {
            "text/plain": [
              "(5, 3)"
            ]
          },
          "metadata": {},
          "execution_count": 11
        }
      ]
    },
    {
      "cell_type": "markdown",
      "source": [
        "## **4. 특정 열에 유니크한 값이 몇 개인지 세어 보기**\n",
        "\n",
        "'국적' 열에 유니크한 값이 몇 개인지 세어보자."
      ],
      "metadata": {
        "id": "NKmTk-gqO9lo"
      }
    },
    {
      "cell_type": "code",
      "source": [
        "df['국적'].nunique()"
      ],
      "metadata": {
        "colab": {
          "base_uri": "https://localhost:8080/"
        },
        "id": "up2wHNfLPFRN",
        "outputId": "bf722042-4a33-4934-d8f4-023764152622"
      },
      "execution_count": null,
      "outputs": [
        {
          "output_type": "execute_result",
          "data": {
            "text/plain": [
              "4"
            ]
          },
          "metadata": {},
          "execution_count": 12
        }
      ]
    },
    {
      "cell_type": "markdown",
      "source": [
        "## **5. 데이터 프레임의 형태 한눈에 보기**"
      ],
      "metadata": {
        "id": "cakFS2_bPNnr"
      }
    },
    {
      "cell_type": "code",
      "source": [
        "df.describe()"
      ],
      "metadata": {
        "colab": {
          "base_uri": "https://localhost:8080/",
          "height": 300
        },
        "id": "e0mReIVIPSRV",
        "outputId": "04c09e98-b51a-404b-bb92-2f5746e873ef"
      },
      "execution_count": null,
      "outputs": [
        {
          "output_type": "execute_result",
          "data": {
            "text/plain": [
              "              나이\n",
              "count   5.000000\n",
              "mean   29.400000\n",
              "std     2.408319\n",
              "min    27.000000\n",
              "25%    28.000000\n",
              "50%    28.000000\n",
              "75%    32.000000\n",
              "max    32.000000"
            ],
            "text/html": [
              "\n",
              "  <div id=\"df-b1557ea8-2446-44d1-a063-6575b945cd0e\">\n",
              "    <div class=\"colab-df-container\">\n",
              "      <div>\n",
              "<style scoped>\n",
              "    .dataframe tbody tr th:only-of-type {\n",
              "        vertical-align: middle;\n",
              "    }\n",
              "\n",
              "    .dataframe tbody tr th {\n",
              "        vertical-align: top;\n",
              "    }\n",
              "\n",
              "    .dataframe thead th {\n",
              "        text-align: right;\n",
              "    }\n",
              "</style>\n",
              "<table border=\"1\" class=\"dataframe\">\n",
              "  <thead>\n",
              "    <tr style=\"text-align: right;\">\n",
              "      <th></th>\n",
              "      <th>나이</th>\n",
              "    </tr>\n",
              "  </thead>\n",
              "  <tbody>\n",
              "    <tr>\n",
              "      <th>count</th>\n",
              "      <td>5.000000</td>\n",
              "    </tr>\n",
              "    <tr>\n",
              "      <th>mean</th>\n",
              "      <td>29.400000</td>\n",
              "    </tr>\n",
              "    <tr>\n",
              "      <th>std</th>\n",
              "      <td>2.408319</td>\n",
              "    </tr>\n",
              "    <tr>\n",
              "      <th>min</th>\n",
              "      <td>27.000000</td>\n",
              "    </tr>\n",
              "    <tr>\n",
              "      <th>25%</th>\n",
              "      <td>28.000000</td>\n",
              "    </tr>\n",
              "    <tr>\n",
              "      <th>50%</th>\n",
              "      <td>28.000000</td>\n",
              "    </tr>\n",
              "    <tr>\n",
              "      <th>75%</th>\n",
              "      <td>32.000000</td>\n",
              "    </tr>\n",
              "    <tr>\n",
              "      <th>max</th>\n",
              "      <td>32.000000</td>\n",
              "    </tr>\n",
              "  </tbody>\n",
              "</table>\n",
              "</div>\n",
              "      <button class=\"colab-df-convert\" onclick=\"convertToInteractive('df-b1557ea8-2446-44d1-a063-6575b945cd0e')\"\n",
              "              title=\"Convert this dataframe to an interactive table.\"\n",
              "              style=\"display:none;\">\n",
              "        \n",
              "  <svg xmlns=\"http://www.w3.org/2000/svg\" height=\"24px\"viewBox=\"0 0 24 24\"\n",
              "       width=\"24px\">\n",
              "    <path d=\"M0 0h24v24H0V0z\" fill=\"none\"/>\n",
              "    <path d=\"M18.56 5.44l.94 2.06.94-2.06 2.06-.94-2.06-.94-.94-2.06-.94 2.06-2.06.94zm-11 1L8.5 8.5l.94-2.06 2.06-.94-2.06-.94L8.5 2.5l-.94 2.06-2.06.94zm10 10l.94 2.06.94-2.06 2.06-.94-2.06-.94-.94-2.06-.94 2.06-2.06.94z\"/><path d=\"M17.41 7.96l-1.37-1.37c-.4-.4-.92-.59-1.43-.59-.52 0-1.04.2-1.43.59L10.3 9.45l-7.72 7.72c-.78.78-.78 2.05 0 2.83L4 21.41c.39.39.9.59 1.41.59.51 0 1.02-.2 1.41-.59l7.78-7.78 2.81-2.81c.8-.78.8-2.07 0-2.86zM5.41 20L4 18.59l7.72-7.72 1.47 1.35L5.41 20z\"/>\n",
              "  </svg>\n",
              "      </button>\n",
              "      \n",
              "  <style>\n",
              "    .colab-df-container {\n",
              "      display:flex;\n",
              "      flex-wrap:wrap;\n",
              "      gap: 12px;\n",
              "    }\n",
              "\n",
              "    .colab-df-convert {\n",
              "      background-color: #E8F0FE;\n",
              "      border: none;\n",
              "      border-radius: 50%;\n",
              "      cursor: pointer;\n",
              "      display: none;\n",
              "      fill: #1967D2;\n",
              "      height: 32px;\n",
              "      padding: 0 0 0 0;\n",
              "      width: 32px;\n",
              "    }\n",
              "\n",
              "    .colab-df-convert:hover {\n",
              "      background-color: #E2EBFA;\n",
              "      box-shadow: 0px 1px 2px rgba(60, 64, 67, 0.3), 0px 1px 3px 1px rgba(60, 64, 67, 0.15);\n",
              "      fill: #174EA6;\n",
              "    }\n",
              "\n",
              "    [theme=dark] .colab-df-convert {\n",
              "      background-color: #3B4455;\n",
              "      fill: #D2E3FC;\n",
              "    }\n",
              "\n",
              "    [theme=dark] .colab-df-convert:hover {\n",
              "      background-color: #434B5C;\n",
              "      box-shadow: 0px 1px 3px 1px rgba(0, 0, 0, 0.15);\n",
              "      filter: drop-shadow(0px 1px 2px rgba(0, 0, 0, 0.3));\n",
              "      fill: #FFFFFF;\n",
              "    }\n",
              "  </style>\n",
              "\n",
              "      <script>\n",
              "        const buttonEl =\n",
              "          document.querySelector('#df-b1557ea8-2446-44d1-a063-6575b945cd0e button.colab-df-convert');\n",
              "        buttonEl.style.display =\n",
              "          google.colab.kernel.accessAllowed ? 'block' : 'none';\n",
              "\n",
              "        async function convertToInteractive(key) {\n",
              "          const element = document.querySelector('#df-b1557ea8-2446-44d1-a063-6575b945cd0e');\n",
              "          const dataTable =\n",
              "            await google.colab.kernel.invokeFunction('convertToInteractive',\n",
              "                                                     [key], {});\n",
              "          if (!dataTable) return;\n",
              "\n",
              "          const docLinkHtml = 'Like what you see? Visit the ' +\n",
              "            '<a target=\"_blank\" href=https://colab.research.google.com/notebooks/data_table.ipynb>data table notebook</a>'\n",
              "            + ' to learn more about interactive tables.';\n",
              "          element.innerHTML = '';\n",
              "          dataTable['output_type'] = 'display_data';\n",
              "          await google.colab.output.renderOutput(dataTable, element);\n",
              "          const docLink = document.createElement('div');\n",
              "          docLink.innerHTML = docLinkHtml;\n",
              "          element.appendChild(docLink);\n",
              "        }\n",
              "      </script>\n",
              "    </div>\n",
              "  </div>\n",
              "  "
            ]
          },
          "metadata": {},
          "execution_count": 13
        }
      ]
    },
    {
      "cell_type": "markdown",
      "source": [
        "## **6. 중복 검증의 기준을 '국적'으로 하여 데이터프레임을 조사해보자.**\n",
        "힌트= .duplicated"
      ],
      "metadata": {
        "id": "VwaXimqPQWSZ"
      }
    },
    {
      "cell_type": "code",
      "source": [
        "df['국적'].duplicated()\n",
        "# df.duplicated(subset='국적')"
      ],
      "metadata": {
        "colab": {
          "base_uri": "https://localhost:8080/"
        },
        "id": "C1l5M647Q3AQ",
        "outputId": "669a35aa-49ae-4851-ad86-0452b87a56c3"
      },
      "execution_count": null,
      "outputs": [
        {
          "output_type": "execute_result",
          "data": {
            "text/plain": [
              "0    False\n",
              "1     True\n",
              "2    False\n",
              "3    False\n",
              "4    False\n",
              "Name: 국적, dtype: bool"
            ]
          },
          "metadata": {},
          "execution_count": 22
        }
      ]
    },
    {
      "cell_type": "markdown",
      "source": [
        "## **7-1. 중복된 값 제거하기(모든 열 기준)**\n",
        "제거후 데이터 프레임을 출력해보자."
      ],
      "metadata": {
        "id": "8dTpEjeFRD_E"
      }
    },
    {
      "cell_type": "code",
      "source": [
        "df.drop_duplicates()"
      ],
      "metadata": {
        "colab": {
          "base_uri": "https://localhost:8080/",
          "height": 175
        },
        "id": "vjSswbAERG4g",
        "outputId": "3950d4ed-3af3-4e92-a408-0fdf6c180618"
      },
      "execution_count": null,
      "outputs": [
        {
          "output_type": "execute_result",
          "data": {
            "text/plain": [
              "   이름  나이    국적\n",
              "0  용용  32  대한민국\n",
              "2  줄줄  28    영국\n",
              "3  철수  27  싱가포르\n",
              "4  영희  28   브라질"
            ],
            "text/html": [
              "\n",
              "  <div id=\"df-08e72250-0bc5-4aa7-9cf0-4cb6a2bbef5a\">\n",
              "    <div class=\"colab-df-container\">\n",
              "      <div>\n",
              "<style scoped>\n",
              "    .dataframe tbody tr th:only-of-type {\n",
              "        vertical-align: middle;\n",
              "    }\n",
              "\n",
              "    .dataframe tbody tr th {\n",
              "        vertical-align: top;\n",
              "    }\n",
              "\n",
              "    .dataframe thead th {\n",
              "        text-align: right;\n",
              "    }\n",
              "</style>\n",
              "<table border=\"1\" class=\"dataframe\">\n",
              "  <thead>\n",
              "    <tr style=\"text-align: right;\">\n",
              "      <th></th>\n",
              "      <th>이름</th>\n",
              "      <th>나이</th>\n",
              "      <th>국적</th>\n",
              "    </tr>\n",
              "  </thead>\n",
              "  <tbody>\n",
              "    <tr>\n",
              "      <th>0</th>\n",
              "      <td>용용</td>\n",
              "      <td>32</td>\n",
              "      <td>대한민국</td>\n",
              "    </tr>\n",
              "    <tr>\n",
              "      <th>2</th>\n",
              "      <td>줄줄</td>\n",
              "      <td>28</td>\n",
              "      <td>영국</td>\n",
              "    </tr>\n",
              "    <tr>\n",
              "      <th>3</th>\n",
              "      <td>철수</td>\n",
              "      <td>27</td>\n",
              "      <td>싱가포르</td>\n",
              "    </tr>\n",
              "    <tr>\n",
              "      <th>4</th>\n",
              "      <td>영희</td>\n",
              "      <td>28</td>\n",
              "      <td>브라질</td>\n",
              "    </tr>\n",
              "  </tbody>\n",
              "</table>\n",
              "</div>\n",
              "      <button class=\"colab-df-convert\" onclick=\"convertToInteractive('df-08e72250-0bc5-4aa7-9cf0-4cb6a2bbef5a')\"\n",
              "              title=\"Convert this dataframe to an interactive table.\"\n",
              "              style=\"display:none;\">\n",
              "        \n",
              "  <svg xmlns=\"http://www.w3.org/2000/svg\" height=\"24px\"viewBox=\"0 0 24 24\"\n",
              "       width=\"24px\">\n",
              "    <path d=\"M0 0h24v24H0V0z\" fill=\"none\"/>\n",
              "    <path d=\"M18.56 5.44l.94 2.06.94-2.06 2.06-.94-2.06-.94-.94-2.06-.94 2.06-2.06.94zm-11 1L8.5 8.5l.94-2.06 2.06-.94-2.06-.94L8.5 2.5l-.94 2.06-2.06.94zm10 10l.94 2.06.94-2.06 2.06-.94-2.06-.94-.94-2.06-.94 2.06-2.06.94z\"/><path d=\"M17.41 7.96l-1.37-1.37c-.4-.4-.92-.59-1.43-.59-.52 0-1.04.2-1.43.59L10.3 9.45l-7.72 7.72c-.78.78-.78 2.05 0 2.83L4 21.41c.39.39.9.59 1.41.59.51 0 1.02-.2 1.41-.59l7.78-7.78 2.81-2.81c.8-.78.8-2.07 0-2.86zM5.41 20L4 18.59l7.72-7.72 1.47 1.35L5.41 20z\"/>\n",
              "  </svg>\n",
              "      </button>\n",
              "      \n",
              "  <style>\n",
              "    .colab-df-container {\n",
              "      display:flex;\n",
              "      flex-wrap:wrap;\n",
              "      gap: 12px;\n",
              "    }\n",
              "\n",
              "    .colab-df-convert {\n",
              "      background-color: #E8F0FE;\n",
              "      border: none;\n",
              "      border-radius: 50%;\n",
              "      cursor: pointer;\n",
              "      display: none;\n",
              "      fill: #1967D2;\n",
              "      height: 32px;\n",
              "      padding: 0 0 0 0;\n",
              "      width: 32px;\n",
              "    }\n",
              "\n",
              "    .colab-df-convert:hover {\n",
              "      background-color: #E2EBFA;\n",
              "      box-shadow: 0px 1px 2px rgba(60, 64, 67, 0.3), 0px 1px 3px 1px rgba(60, 64, 67, 0.15);\n",
              "      fill: #174EA6;\n",
              "    }\n",
              "\n",
              "    [theme=dark] .colab-df-convert {\n",
              "      background-color: #3B4455;\n",
              "      fill: #D2E3FC;\n",
              "    }\n",
              "\n",
              "    [theme=dark] .colab-df-convert:hover {\n",
              "      background-color: #434B5C;\n",
              "      box-shadow: 0px 1px 3px 1px rgba(0, 0, 0, 0.15);\n",
              "      filter: drop-shadow(0px 1px 2px rgba(0, 0, 0, 0.3));\n",
              "      fill: #FFFFFF;\n",
              "    }\n",
              "  </style>\n",
              "\n",
              "      <script>\n",
              "        const buttonEl =\n",
              "          document.querySelector('#df-08e72250-0bc5-4aa7-9cf0-4cb6a2bbef5a button.colab-df-convert');\n",
              "        buttonEl.style.display =\n",
              "          google.colab.kernel.accessAllowed ? 'block' : 'none';\n",
              "\n",
              "        async function convertToInteractive(key) {\n",
              "          const element = document.querySelector('#df-08e72250-0bc5-4aa7-9cf0-4cb6a2bbef5a');\n",
              "          const dataTable =\n",
              "            await google.colab.kernel.invokeFunction('convertToInteractive',\n",
              "                                                     [key], {});\n",
              "          if (!dataTable) return;\n",
              "\n",
              "          const docLinkHtml = 'Like what you see? Visit the ' +\n",
              "            '<a target=\"_blank\" href=https://colab.research.google.com/notebooks/data_table.ipynb>data table notebook</a>'\n",
              "            + ' to learn more about interactive tables.';\n",
              "          element.innerHTML = '';\n",
              "          dataTable['output_type'] = 'display_data';\n",
              "          await google.colab.output.renderOutput(dataTable, element);\n",
              "          const docLink = document.createElement('div');\n",
              "          docLink.innerHTML = docLinkHtml;\n",
              "          element.appendChild(docLink);\n",
              "        }\n",
              "      </script>\n",
              "    </div>\n",
              "  </div>\n",
              "  "
            ]
          },
          "metadata": {},
          "execution_count": 15
        }
      ]
    },
    {
      "cell_type": "markdown",
      "source": [
        "## **7-2. 중복된 값 제거하기(지정된 열을 기준)**\n",
        "\n",
        "아직 각 열에는 여전히 중복되는 데이터가 남아있다. \n",
        " '나이'열로 지정하여 중복을 제거해보고 데이터 프레임을 출력해보자."
      ],
      "metadata": {
        "id": "Macuyzx9RdSk"
      }
    },
    {
      "cell_type": "code",
      "source": [
        "df.drop_duplicates(subset='나이')\n",
        "# df['나이'].drop_duplicates()"
      ],
      "metadata": {
        "colab": {
          "base_uri": "https://localhost:8080/",
          "height": 143
        },
        "id": "FL_8ef6pRzs8",
        "outputId": "be3461f0-ec4d-4533-8abd-321133681cd2"
      },
      "execution_count": null,
      "outputs": [
        {
          "output_type": "execute_result",
          "data": {
            "text/plain": [
              "   이름  나이    국적\n",
              "0  용용  32  대한민국\n",
              "2  줄줄  28    영국\n",
              "3  철수  27  싱가포르"
            ],
            "text/html": [
              "\n",
              "  <div id=\"df-3384724e-ac44-48b8-be44-20509cdb09b3\">\n",
              "    <div class=\"colab-df-container\">\n",
              "      <div>\n",
              "<style scoped>\n",
              "    .dataframe tbody tr th:only-of-type {\n",
              "        vertical-align: middle;\n",
              "    }\n",
              "\n",
              "    .dataframe tbody tr th {\n",
              "        vertical-align: top;\n",
              "    }\n",
              "\n",
              "    .dataframe thead th {\n",
              "        text-align: right;\n",
              "    }\n",
              "</style>\n",
              "<table border=\"1\" class=\"dataframe\">\n",
              "  <thead>\n",
              "    <tr style=\"text-align: right;\">\n",
              "      <th></th>\n",
              "      <th>이름</th>\n",
              "      <th>나이</th>\n",
              "      <th>국적</th>\n",
              "    </tr>\n",
              "  </thead>\n",
              "  <tbody>\n",
              "    <tr>\n",
              "      <th>0</th>\n",
              "      <td>용용</td>\n",
              "      <td>32</td>\n",
              "      <td>대한민국</td>\n",
              "    </tr>\n",
              "    <tr>\n",
              "      <th>2</th>\n",
              "      <td>줄줄</td>\n",
              "      <td>28</td>\n",
              "      <td>영국</td>\n",
              "    </tr>\n",
              "    <tr>\n",
              "      <th>3</th>\n",
              "      <td>철수</td>\n",
              "      <td>27</td>\n",
              "      <td>싱가포르</td>\n",
              "    </tr>\n",
              "  </tbody>\n",
              "</table>\n",
              "</div>\n",
              "      <button class=\"colab-df-convert\" onclick=\"convertToInteractive('df-3384724e-ac44-48b8-be44-20509cdb09b3')\"\n",
              "              title=\"Convert this dataframe to an interactive table.\"\n",
              "              style=\"display:none;\">\n",
              "        \n",
              "  <svg xmlns=\"http://www.w3.org/2000/svg\" height=\"24px\"viewBox=\"0 0 24 24\"\n",
              "       width=\"24px\">\n",
              "    <path d=\"M0 0h24v24H0V0z\" fill=\"none\"/>\n",
              "    <path d=\"M18.56 5.44l.94 2.06.94-2.06 2.06-.94-2.06-.94-.94-2.06-.94 2.06-2.06.94zm-11 1L8.5 8.5l.94-2.06 2.06-.94-2.06-.94L8.5 2.5l-.94 2.06-2.06.94zm10 10l.94 2.06.94-2.06 2.06-.94-2.06-.94-.94-2.06-.94 2.06-2.06.94z\"/><path d=\"M17.41 7.96l-1.37-1.37c-.4-.4-.92-.59-1.43-.59-.52 0-1.04.2-1.43.59L10.3 9.45l-7.72 7.72c-.78.78-.78 2.05 0 2.83L4 21.41c.39.39.9.59 1.41.59.51 0 1.02-.2 1.41-.59l7.78-7.78 2.81-2.81c.8-.78.8-2.07 0-2.86zM5.41 20L4 18.59l7.72-7.72 1.47 1.35L5.41 20z\"/>\n",
              "  </svg>\n",
              "      </button>\n",
              "      \n",
              "  <style>\n",
              "    .colab-df-container {\n",
              "      display:flex;\n",
              "      flex-wrap:wrap;\n",
              "      gap: 12px;\n",
              "    }\n",
              "\n",
              "    .colab-df-convert {\n",
              "      background-color: #E8F0FE;\n",
              "      border: none;\n",
              "      border-radius: 50%;\n",
              "      cursor: pointer;\n",
              "      display: none;\n",
              "      fill: #1967D2;\n",
              "      height: 32px;\n",
              "      padding: 0 0 0 0;\n",
              "      width: 32px;\n",
              "    }\n",
              "\n",
              "    .colab-df-convert:hover {\n",
              "      background-color: #E2EBFA;\n",
              "      box-shadow: 0px 1px 2px rgba(60, 64, 67, 0.3), 0px 1px 3px 1px rgba(60, 64, 67, 0.15);\n",
              "      fill: #174EA6;\n",
              "    }\n",
              "\n",
              "    [theme=dark] .colab-df-convert {\n",
              "      background-color: #3B4455;\n",
              "      fill: #D2E3FC;\n",
              "    }\n",
              "\n",
              "    [theme=dark] .colab-df-convert:hover {\n",
              "      background-color: #434B5C;\n",
              "      box-shadow: 0px 1px 3px 1px rgba(0, 0, 0, 0.15);\n",
              "      filter: drop-shadow(0px 1px 2px rgba(0, 0, 0, 0.3));\n",
              "      fill: #FFFFFF;\n",
              "    }\n",
              "  </style>\n",
              "\n",
              "      <script>\n",
              "        const buttonEl =\n",
              "          document.querySelector('#df-3384724e-ac44-48b8-be44-20509cdb09b3 button.colab-df-convert');\n",
              "        buttonEl.style.display =\n",
              "          google.colab.kernel.accessAllowed ? 'block' : 'none';\n",
              "\n",
              "        async function convertToInteractive(key) {\n",
              "          const element = document.querySelector('#df-3384724e-ac44-48b8-be44-20509cdb09b3');\n",
              "          const dataTable =\n",
              "            await google.colab.kernel.invokeFunction('convertToInteractive',\n",
              "                                                     [key], {});\n",
              "          if (!dataTable) return;\n",
              "\n",
              "          const docLinkHtml = 'Like what you see? Visit the ' +\n",
              "            '<a target=\"_blank\" href=https://colab.research.google.com/notebooks/data_table.ipynb>data table notebook</a>'\n",
              "            + ' to learn more about interactive tables.';\n",
              "          element.innerHTML = '';\n",
              "          dataTable['output_type'] = 'display_data';\n",
              "          await google.colab.output.renderOutput(dataTable, element);\n",
              "          const docLink = document.createElement('div');\n",
              "          docLink.innerHTML = docLinkHtml;\n",
              "          element.appendChild(docLink);\n",
              "        }\n",
              "      </script>\n",
              "    </div>\n",
              "  </div>\n",
              "  "
            ]
          },
          "metadata": {},
          "execution_count": 21
        }
      ]
    }
  ]
}