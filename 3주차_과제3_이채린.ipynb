{
  "nbformat": 4,
  "nbformat_minor": 0,
  "metadata": {
    "colab": {
      "provenance": [],
      "include_colab_link": true
    },
    "kernelspec": {
      "name": "python3",
      "display_name": "Python 3"
    },
    "language_info": {
      "name": "python"
    }
  },
  "cells": [
    {
      "cell_type": "markdown",
      "metadata": {
        "id": "view-in-github",
        "colab_type": "text"
      },
      "source": [
        "<a href=\"https://colab.research.google.com/github/ChaelinL/Pandas_Study/blob/main/3%EC%A3%BC%EC%B0%A8_%EA%B3%BC%EC%A0%9C3_%EC%9D%B4%EC%B1%84%EB%A6%B0.ipynb\" target=\"_parent\"><img src=\"https://colab.research.google.com/assets/colab-badge.svg\" alt=\"Open In Colab\"/></a>"
      ]
    },
    {
      "cell_type": "markdown",
      "source": [
        "# **K. 시리즈 데이터 연결하기**"
      ],
      "metadata": {
        "id": "zPkiRqoMrGLV"
      }
    },
    {
      "cell_type": "code",
      "source": [
        "import pandas as pd"
      ],
      "metadata": {
        "id": "zmMQfkdlscyh"
      },
      "execution_count": null,
      "outputs": []
    },
    {
      "cell_type": "markdown",
      "source": [
        "다음과 같은 시리즈 객체 두 개를 만들겠습니다."
      ],
      "metadata": {
        "id": "FJdGX0oVsr08"
      }
    },
    {
      "cell_type": "code",
      "execution_count": null,
      "metadata": {
        "colab": {
          "base_uri": "https://localhost:8080/"
        },
        "id": "ekB9r7FhqO83",
        "outputId": "168119c3-dbab-4a08-e384-17be163f06cc"
      },
      "outputs": [
        {
          "output_type": "execute_result",
          "data": {
            "text/plain": [
              "0    부산\n",
              "1    울산\n",
              "2    대전\n",
              "3    인천\n",
              "dtype: object"
            ]
          },
          "metadata": {},
          "execution_count": 2
        }
      ],
      "source": [
        "s1 = pd.Series(['부산', '울산', '대전', '인천'])\n",
        "s1"
      ]
    },
    {
      "cell_type": "code",
      "source": [
        "s2 = pd.Series(['전주', '순천', '춘천', '오산'])\n",
        "s2"
      ],
      "metadata": {
        "colab": {
          "base_uri": "https://localhost:8080/"
        },
        "id": "9MCGnz5UsZwq",
        "outputId": "97fdb9d7-d2da-45fd-a1b1-a873b15b68bd"
      },
      "execution_count": null,
      "outputs": [
        {
          "output_type": "execute_result",
          "data": {
            "text/plain": [
              "0    전주\n",
              "1    순천\n",
              "2    춘천\n",
              "3    오산\n",
              "dtype: object"
            ]
          },
          "metadata": {},
          "execution_count": 3
        }
      ]
    },
    {
      "cell_type": "markdown",
      "source": [
        "시리즈 객체 s1과 s2를 합치겠습니다."
      ],
      "metadata": {
        "id": "kPU9tkdatZ5B"
      }
    },
    {
      "cell_type": "code",
      "source": [
        "pd.concat([s1, s2])"
      ],
      "metadata": {
        "colab": {
          "base_uri": "https://localhost:8080/"
        },
        "id": "7LG5aHyBtbEa",
        "outputId": "f110deb5-63a7-46b9-bbf8-824d51431351"
      },
      "execution_count": null,
      "outputs": [
        {
          "output_type": "execute_result",
          "data": {
            "text/plain": [
              "0    부산\n",
              "1    울산\n",
              "2    대전\n",
              "3    인천\n",
              "0    전주\n",
              "1    순천\n",
              "2    춘천\n",
              "3    오산\n",
              "dtype: object"
            ]
          },
          "metadata": {},
          "execution_count": 4
        }
      ]
    },
    {
      "cell_type": "markdown",
      "source": [
        "인덱스가 보기 안좋네요. 시리즈객체 s1과 s2를 합치되, 다음과 같이 새로운 인덱스를 만들겠습니다."
      ],
      "metadata": {
        "id": "f0RwRvSstihM"
      }
    },
    {
      "cell_type": "code",
      "source": [
        "pd.concat([s1, s2], ignore_index=True)"
      ],
      "metadata": {
        "colab": {
          "base_uri": "https://localhost:8080/"
        },
        "id": "RaqhPo6hsoa_",
        "outputId": "741576e1-e813-48aa-fef6-a7a4089bb32d"
      },
      "execution_count": null,
      "outputs": [
        {
          "output_type": "execute_result",
          "data": {
            "text/plain": [
              "0    부산\n",
              "1    울산\n",
              "2    대전\n",
              "3    인천\n",
              "4    전주\n",
              "5    순천\n",
              "6    춘천\n",
              "7    오산\n",
              "dtype: object"
            ]
          },
          "metadata": {},
          "execution_count": 5
        }
      ]
    },
    {
      "cell_type": "markdown",
      "source": [
        "조금 더 정리하겠습니다."
      ],
      "metadata": {
        "id": "Tl_vKd54vyxl"
      }
    },
    {
      "cell_type": "code",
      "source": [
        "pd.concat([s1, s2], keys=['광역시','시'], names=['행정구역'])"
      ],
      "metadata": {
        "colab": {
          "base_uri": "https://localhost:8080/"
        },
        "id": "ZcMDVEQptqrb",
        "outputId": "b17c3216-ef02-458c-80cd-dbfca6e78945"
      },
      "execution_count": null,
      "outputs": [
        {
          "output_type": "execute_result",
          "data": {
            "text/plain": [
              "행정구역   \n",
              "광역시   0    부산\n",
              "      1    울산\n",
              "      2    대전\n",
              "      3    인천\n",
              "시     0    전주\n",
              "      1    순천\n",
              "      2    춘천\n",
              "      3    오산\n",
              "dtype: object"
            ]
          },
          "metadata": {},
          "execution_count": 6
        }
      ]
    }
  ]
}